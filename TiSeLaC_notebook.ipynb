{
 "cells": [
  {
   "cell_type": "markdown",
   "metadata": {},
   "source": [
    "## This notebook shows few simple benchmarks to predict land cover classes for TiSeLaC Challenge: https://sites.google.com/site/dinoienco/tiselc"
   ]
  },
  {
   "cell_type": "code",
   "execution_count": 4,
   "metadata": {},
   "outputs": [],
   "source": [
    "# basic libraries import\n",
    "import pandas as pd\n",
    "import numpy as np\n",
    "from sklearn import ensemble, metrics, cluster, neighbors\n",
    "import matplotlib.pyplot as plt\n",
    "%matplotlib inline\n",
    "\n",
    "# this is custom file, made for shrink notebook size\n",
    "import utils\n",
    "\n",
    "# score function wrapper\n",
    "def f1_scorew(y_true, y_pred):\n",
    "    return metrics.f1_score(y_true, y_pred, average='weighted')\n",
    "\n",
    "# EDIT HERE, the path to data files\n",
    "DATA_PATH='.\\\\'\n",
    "DATA_PATH='c:\\\\p\\\\dm\\\\dinoienco\\\\data\\\\'\n",
    "\n",
    "# reading data\n",
    "train = pd.read_csv(DATA_PATH+'training.txt', header=None).astype(np.int16)\n",
    "train_scaled = pd.read_csv(DATA_PATH+'train_scaled.csv').astype(np.float32)\n",
    "test = pd.read_csv(DATA_PATH+'test.dat', header=None)\n",
    "coord_train = pd.read_csv(DATA_PATH+'coord_training.txt', header=None, names=['x1','x2'])\n",
    "coord_test = pd.read_csv(DATA_PATH+'coord_test.dat', header=None, names=['x1','x2'])\n",
    "y_train = pd.read_csv(DATA_PATH+'training_class.txt', header=None, names=['y'])['y']\n",
    "y_test = pd.read_csv(DATA_PATH+'test.cl', header=None, names=['y'])['y']\n",
    "\n",
    "#metadata\n",
    "n_features=10\n",
    "n_periods=23\n",
    "classes=y_train.unique()\n",
    "n_classes=classes.shape[0]\n",
    "n=train.shape[0]\n",
    "class_names={1.:'Urban Areas',2.:'Other built-up surfaces',3.:'Forests',4.:'Sparse Vegetation',5:'Rocks and bare soil',6.:'Grassland',7.:'Sugarcane crops',8.:'Other crops',9:'Water'}"
   ]
  },
  {
   "cell_type": "markdown",
   "metadata": {},
   "source": [
    "## We'll use Extremely Randomized Trees Classifier to check most of approaches"
   ]
  },
  {
   "cell_type": "code",
   "execution_count": 5,
   "metadata": {},
   "outputs": [],
   "source": [
    "clf=ensemble.ExtraTreesClassifier(n_estimators=30)"
   ]
  },
  {
   "cell_type": "code",
   "execution_count": 6,
   "metadata": {},
   "outputs": [],
   "source": [
    "n=5000\n",
    "train=train.iloc[:n]\n",
    "y_train=y_train.iloc[:n]\n",
    "coord_train=coord_train.iloc[:n]\n",
    "train_scaled=train_scaled.iloc[:n]"
   ]
  },
  {
   "cell_type": "code",
   "execution_count": 7,
   "metadata": {
    "collapsed": true
   },
   "outputs": [],
   "source": [
    "# trace all model scores \n",
    "all_scores=pd.DataFrame(columns=['clf', 'description','cv','score_mean'])"
   ]
  },
  {
   "cell_type": "markdown",
   "metadata": {},
   "source": [
    "## the following five cross-validation schemes will be used:\n",
    "* random split train and test\n",
    "* split train and test by rectangles (in one rectange only train or test)\n",
    "* subsample train (or decrease it's size)"
   ]
  },
  {
   "cell_type": "code",
   "execution_count": 8,
   "metadata": {
    "collapsed": true
   },
   "outputs": [],
   "source": [
    "origCV=utils.SubsampleTrainCV(n, train_ratio=1.)\n",
    "rectCV=utils.LandRectanglesCV(coord_train)\n",
    "ss07CV=utils.SubsampleTrainCV(n, train_ratio=.7)\n",
    "ss04CV=utils.SubsampleTrainCV(n, train_ratio=.4)\n",
    "ss01CV=utils.SubsampleTrainCV(n, train_ratio=.1)"
   ]
  },
  {
   "cell_type": "markdown",
   "metadata": {},
   "source": [
    "## Simplest benchmark: no preprocessing"
   ]
  },
  {
   "cell_type": "code",
   "execution_count": 26,
   "metadata": {},
   "outputs": [
    {
     "name": "stdout",
     "output_type": "stream",
     "text": [
      "time: 121.63s\n",
      "time: 122.40s\n",
      "time: 77.25s\n",
      "time: 40.96s\n",
      "time: 10.37s\n"
     ]
    },
    {
     "data": {
      "text/html": [
       "<div>\n",
       "<style>\n",
       "    .dataframe thead tr:only-child th {\n",
       "        text-align: right;\n",
       "    }\n",
       "\n",
       "    .dataframe thead th {\n",
       "        text-align: left;\n",
       "    }\n",
       "\n",
       "    .dataframe tbody tr th {\n",
       "        vertical-align: top;\n",
       "    }\n",
       "</style>\n",
       "<table border=\"1\" class=\"dataframe\">\n",
       "  <thead>\n",
       "    <tr style=\"text-align: right;\">\n",
       "      <th></th>\n",
       "      <th>clf</th>\n",
       "      <th>description</th>\n",
       "      <th>cv</th>\n",
       "      <th>score_mean</th>\n",
       "    </tr>\n",
       "  </thead>\n",
       "  <tbody>\n",
       "    <tr>\n",
       "      <th>0</th>\n",
       "      <td>ExtraTreesClassifier(bootstrap=False, class_we...</td>\n",
       "      <td>base benchmark</td>\n",
       "      <td>subs1.0CV</td>\n",
       "      <td>0.8893</td>\n",
       "    </tr>\n",
       "    <tr>\n",
       "      <th>0</th>\n",
       "      <td>ExtraTreesClassifier(bootstrap=False, class_we...</td>\n",
       "      <td>base benchmark</td>\n",
       "      <td>rectCV</td>\n",
       "      <td>0.7797</td>\n",
       "    </tr>\n",
       "    <tr>\n",
       "      <th>0</th>\n",
       "      <td>ExtraTreesClassifier(bootstrap=False, class_we...</td>\n",
       "      <td>base benchmark</td>\n",
       "      <td>subs0.7CV</td>\n",
       "      <td>0.8824</td>\n",
       "    </tr>\n",
       "    <tr>\n",
       "      <th>0</th>\n",
       "      <td>ExtraTreesClassifier(bootstrap=False, class_we...</td>\n",
       "      <td>base benchmark</td>\n",
       "      <td>subs0.4CV</td>\n",
       "      <td>0.8719</td>\n",
       "    </tr>\n",
       "    <tr>\n",
       "      <th>0</th>\n",
       "      <td>ExtraTreesClassifier(bootstrap=False, class_we...</td>\n",
       "      <td>base benchmark</td>\n",
       "      <td>subs0.1CV</td>\n",
       "      <td>0.8409</td>\n",
       "    </tr>\n",
       "  </tbody>\n",
       "</table>\n",
       "</div>"
      ],
      "text/plain": [
       "                                                 clf     description  \\\n",
       "0  ExtraTreesClassifier(bootstrap=False, class_we...  base benchmark   \n",
       "0  ExtraTreesClassifier(bootstrap=False, class_we...  base benchmark   \n",
       "0  ExtraTreesClassifier(bootstrap=False, class_we...  base benchmark   \n",
       "0  ExtraTreesClassifier(bootstrap=False, class_we...  base benchmark   \n",
       "0  ExtraTreesClassifier(bootstrap=False, class_we...  base benchmark   \n",
       "\n",
       "          cv  score_mean  \n",
       "0  subs1.0CV      0.8893  \n",
       "0     rectCV      0.7797  \n",
       "0  subs0.7CV      0.8824  \n",
       "0  subs0.4CV      0.8719  \n",
       "0  subs0.1CV      0.8409  "
      ]
     },
     "execution_count": 26,
     "metadata": {},
     "output_type": "execute_result"
    }
   ],
   "source": [
    "for _cv in [origCV, rectCV, ss07CV, ss04CV, ss01CV]:\n",
    "    res=utils.test_cv(train, y_train, clf, _cv, f1_scorew, 'base benchmark')\n",
    "    all_scores=all_scores.append(res)\n",
    "all_scores.iloc[-5:]"
   ]
  },
  {
   "cell_type": "markdown",
   "metadata": {},
   "source": [
    "## Check for KNN, but with ZMUV scaled data"
   ]
  },
  {
   "cell_type": "code",
   "execution_count": null,
   "metadata": {
    "collapsed": true
   },
   "outputs": [],
   "source": [
    "clf=neighbors.KNeighborsClassifier(n_neighbors=10)\n",
    "for _cv in [origCV, rectCV, ss07CV, ss04CV, ss01CV]:\n",
    "    res=utils.test_cv(train_scaled, y_train, clf, _cv, f1_scorew, 'base benchmark ZMUV+10NN')\n",
    "    all_scores=all_scores.append(res)\n",
    "all_scores.iloc[-5:]"
   ]
  },
  {
   "cell_type": "markdown",
   "metadata": {},
   "source": [
    "## Here we trying to extract temporal shapes with MiniBatchKMeans clustering, no Fourier analysis or convolutions tried here, due to only one year time series we have"
   ]
  },
  {
   "cell_type": "markdown",
   "metadata": {},
   "source": [
    "### The following number of clusters will be tried"
   ]
  },
  {
   "cell_type": "code",
   "execution_count": 9,
   "metadata": {},
   "outputs": [
    {
     "data": {
      "text/plain": [
       "[1, 5, 10, 15, 20, 25, 30, 35, 40, 45, 50, 55, 60, 65, 70, 75, 80]"
      ]
     },
     "execution_count": 9,
     "metadata": {},
     "output_type": "execute_result"
    }
   ],
   "source": [
    "clusters_range=[1]+list(range(5,81,5))\n",
    "clusters_range"
   ]
  },
  {
   "cell_type": "markdown",
   "metadata": {},
   "source": [
    "### Here also two different types of how to cluster time series:\n",
    "* consider feature dynamics is one observation with 'n_periods'-dimensional space\n",
    "* consider every snapshot as one observation with 'n_features'-dimensional space"
   ]
  },
  {
   "cell_type": "code",
   "execution_count": null,
   "metadata": {},
   "outputs": [],
   "source": [
    "clusters_scores_features=pd.DataFrame(columns=['clf', 'description','cv','score_mean'])\n",
    "for n_cl in clusters_range:\n",
    "    tcf=utils.TimedCluster(cluster.MiniBatchKMeans(n_clusters=n_cl), feature_space='features')\n",
    "    train_clusters_features=tcf.fit_predict(train)\n",
    "    res=utils.test_cv(train_clusters_features, y_train, clf, origCV, f1_scorew, 'cluster features n_clusters={}'.format(n_cl))\n",
    "    clusters_scores_features=clusters_scores_features.append(res)\n",
    "clusters_scores_features['n_clusters']=clusters_range"
   ]
  },
  {
   "cell_type": "code",
   "execution_count": null,
   "metadata": {
    "scrolled": true
   },
   "outputs": [],
   "source": [
    "clusters_scores_periods=pd.DataFrame(columns=['clf', 'description','cv','score_mean'])\n",
    "for n_cl in clusters_range:\n",
    "    tcp=utils.TimedCluster(cluster.MiniBatchKMeans(n_clusters=n_cl), feature_space='periods')\n",
    "    train_clusters_periods=tcp.fit_predict(train_scaled)\n",
    "    res=utils.test_cv(train_clusters_periods, y_train, clf, origCV, f1_scorew, 'cluster periods n_clusters={}'.format(n_cl))\n",
    "    clusters_scores_periods=clusters_scores_periods.append(res)\n",
    "clusters_scores_periods['n_clusters']=clusters_range"
   ]
  },
  {
   "cell_type": "markdown",
   "metadata": {},
   "source": [
    "### Let's check how number of clusters affect score, with plots"
   ]
  },
  {
   "cell_type": "code",
   "execution_count": 11,
   "metadata": {
    "collapsed": true
   },
   "outputs": [],
   "source": [
    "plt.rcParams['axes.labelsize']=14\n",
    "plt.rcParams['axes.titlesize']=14"
   ]
  },
  {
   "cell_type": "code",
   "execution_count": null,
   "metadata": {
    "scrolled": false
   },
   "outputs": [],
   "source": [
    "clusters_scores_features.plot(x='n_clusters', y='score_mean', figsize=(6,4), title='F1score weighted CV', legend=False, grid=True, fontsize=12)\n",
    "plt.tight_layout()\n",
    "plt.savefig(DATA_PATH+'feature_clustering_cv.pdf', format='pdf', dpi=500)"
   ]
  },
  {
   "cell_type": "code",
   "execution_count": 32,
   "metadata": {
    "scrolled": false
   },
   "outputs": [
    {
     "data": {
      "image/png": "[encoded data removed]",
      "text/plain": [
       "<matplotlib.figure.Figure at 0x8a5f230>"
      ]
     },
     "metadata": {},
     "output_type": "display_data"
    }
   ],
   "source": [
    "clusters_scores_periods.plot(x='n_clusters', y='score_mean', figsize=(6,4), title='F1score weighted CV', legend=False, grid=True, fontsize=12)\n",
    "plt.tight_layout()\n",
    "plt.savefig(DATA_PATH+'snapshot_clustering_cv.pdf', format='pdf', dpi=500)"
   ]
  },
  {
   "cell_type": "code",
   "execution_count": 27,
   "metadata": {},
   "outputs": [
    {
     "data": {
      "text/plain": [
       "clf            ExtraTreesClassifier(bootstrap=False, class_we...\n",
       "description                       cluster features n_clusters=65\n",
       "cv                                                     subs1.0CV\n",
       "score_mean                                                0.8164\n",
       "n_neighbors                                                   65\n",
       "Name: 0, dtype: object"
      ]
     },
     "execution_count": 27,
     "metadata": {},
     "output_type": "execute_result"
    }
   ],
   "source": [
    "clusters_scores_features.iloc[np.argmax(clusters_scores_features['score_mean'].values)]"
   ]
  },
  {
   "cell_type": "code",
   "execution_count": 28,
   "metadata": {},
   "outputs": [
    {
     "data": {
      "text/plain": [
       "clf            ExtraTreesClassifier(bootstrap=False, class_we...\n",
       "description                        cluster periods n_clusters=50\n",
       "cv                                                     subs1.0CV\n",
       "score_mean                                                0.8294\n",
       "n_neighbors                                                   50\n",
       "Name: 0, dtype: object"
      ]
     },
     "execution_count": 28,
     "metadata": {},
     "output_type": "execute_result"
    }
   ],
   "source": [
    "clusters_scores_periods.iloc[np.argmax(clusters_scores_periods['score_mean'].values)]"
   ]
  },
  {
   "cell_type": "markdown",
   "metadata": {},
   "source": [
    "### Best n_clusters values pass through different cross-validation schemes:"
   ]
  },
  {
   "cell_type": "code",
   "execution_count": 101,
   "metadata": {},
   "outputs": [
    {
     "name": "stdout",
     "output_type": "stream",
     "text": [
      "time: 29.46s\n",
      "time: 29.97s\n",
      "time: 19.67s\n",
      "time: 10.78s\n",
      "time: 4.04s\n"
     ]
    },
    {
     "data": {
      "text/html": [
       "<div>\n",
       "<style>\n",
       "    .dataframe thead tr:only-child th {\n",
       "        text-align: right;\n",
       "    }\n",
       "\n",
       "    .dataframe thead th {\n",
       "        text-align: left;\n",
       "    }\n",
       "\n",
       "    .dataframe tbody tr th {\n",
       "        vertical-align: top;\n",
       "    }\n",
       "</style>\n",
       "<table border=\"1\" class=\"dataframe\">\n",
       "  <thead>\n",
       "    <tr style=\"text-align: right;\">\n",
       "      <th></th>\n",
       "      <th>clf</th>\n",
       "      <th>description</th>\n",
       "      <th>cv</th>\n",
       "      <th>score_mean</th>\n",
       "    </tr>\n",
       "  </thead>\n",
       "  <tbody>\n",
       "    <tr>\n",
       "      <th>0</th>\n",
       "      <td>ExtraTreesClassifier(bootstrap=False, class_we...</td>\n",
       "      <td>feature clusters=61</td>\n",
       "      <td>subs1.0CV</td>\n",
       "      <td>0.8185</td>\n",
       "    </tr>\n",
       "    <tr>\n",
       "      <th>0</th>\n",
       "      <td>ExtraTreesClassifier(bootstrap=False, class_we...</td>\n",
       "      <td>feature clusters=61</td>\n",
       "      <td>rectCV</td>\n",
       "      <td>0.7063</td>\n",
       "    </tr>\n",
       "    <tr>\n",
       "      <th>0</th>\n",
       "      <td>ExtraTreesClassifier(bootstrap=False, class_we...</td>\n",
       "      <td>feature clusters=61</td>\n",
       "      <td>subs0.7CV</td>\n",
       "      <td>0.8092</td>\n",
       "    </tr>\n",
       "    <tr>\n",
       "      <th>0</th>\n",
       "      <td>ExtraTreesClassifier(bootstrap=False, class_we...</td>\n",
       "      <td>feature clusters=61</td>\n",
       "      <td>subs0.4CV</td>\n",
       "      <td>0.7938</td>\n",
       "    </tr>\n",
       "    <tr>\n",
       "      <th>0</th>\n",
       "      <td>ExtraTreesClassifier(bootstrap=False, class_we...</td>\n",
       "      <td>feature clusters=61</td>\n",
       "      <td>subs0.1CV</td>\n",
       "      <td>0.7490</td>\n",
       "    </tr>\n",
       "  </tbody>\n",
       "</table>\n",
       "</div>"
      ],
      "text/plain": [
       "                                                 clf          description  \\\n",
       "0  ExtraTreesClassifier(bootstrap=False, class_we...  feature clusters=61   \n",
       "0  ExtraTreesClassifier(bootstrap=False, class_we...  feature clusters=61   \n",
       "0  ExtraTreesClassifier(bootstrap=False, class_we...  feature clusters=61   \n",
       "0  ExtraTreesClassifier(bootstrap=False, class_we...  feature clusters=61   \n",
       "0  ExtraTreesClassifier(bootstrap=False, class_we...  feature clusters=61   \n",
       "\n",
       "          cv  score_mean  \n",
       "0  subs1.0CV      0.8185  \n",
       "0     rectCV      0.7063  \n",
       "0  subs0.7CV      0.8092  \n",
       "0  subs0.4CV      0.7938  \n",
       "0  subs0.1CV      0.7490  "
      ]
     },
     "execution_count": 101,
     "metadata": {},
     "output_type": "execute_result"
    }
   ],
   "source": [
    "n_cl=clusters_scores_features.iloc[np.argmax(clusters_scores_features['score_mean'].values)]['n_neighbors']\n",
    "tcf=utils.TimedCluster(cluster.MiniBatchKMeans(n_clusters=n_cl), feature_space='features')\n",
    "train_clusters_features=tcf.fit_predict(train)\n",
    "for _cv in [origCV, rectCV, ss07CV, ss04CV, ss01CV]:\n",
    "    res=utils.test_cv(train_clusters_features, y_train, clf, _cv, f1_scorew, 'feature clusters={}'.format(n_cl))\n",
    "    all_scores=all_scores.append(res)\n",
    "all_scores.iloc[-5:]"
   ]
  },
  {
   "cell_type": "code",
   "execution_count": 102,
   "metadata": {},
   "outputs": [
    {
     "name": "stdout",
     "output_type": "stream",
     "text": [
      "time: 37.22s\n",
      "time: 36.75s\n",
      "time: 24.18s\n",
      "time: 13.61s\n",
      "time: 4.37s\n"
     ]
    },
    {
     "data": {
      "text/html": [
       "<div>\n",
       "<style>\n",
       "    .dataframe thead tr:only-child th {\n",
       "        text-align: right;\n",
       "    }\n",
       "\n",
       "    .dataframe thead th {\n",
       "        text-align: left;\n",
       "    }\n",
       "\n",
       "    .dataframe tbody tr th {\n",
       "        vertical-align: top;\n",
       "    }\n",
       "</style>\n",
       "<table border=\"1\" class=\"dataframe\">\n",
       "  <thead>\n",
       "    <tr style=\"text-align: right;\">\n",
       "      <th></th>\n",
       "      <th>clf</th>\n",
       "      <th>description</th>\n",
       "      <th>cv</th>\n",
       "      <th>score_mean</th>\n",
       "    </tr>\n",
       "  </thead>\n",
       "  <tbody>\n",
       "    <tr>\n",
       "      <th>0</th>\n",
       "      <td>ExtraTreesClassifier(bootstrap=False, class_we...</td>\n",
       "      <td>periods clusters=41</td>\n",
       "      <td>subs1.0CV</td>\n",
       "      <td>0.8294</td>\n",
       "    </tr>\n",
       "    <tr>\n",
       "      <th>0</th>\n",
       "      <td>ExtraTreesClassifier(bootstrap=False, class_we...</td>\n",
       "      <td>periods clusters=41</td>\n",
       "      <td>rectCV</td>\n",
       "      <td>0.7314</td>\n",
       "    </tr>\n",
       "    <tr>\n",
       "      <th>0</th>\n",
       "      <td>ExtraTreesClassifier(bootstrap=False, class_we...</td>\n",
       "      <td>periods clusters=41</td>\n",
       "      <td>subs0.7CV</td>\n",
       "      <td>0.8223</td>\n",
       "    </tr>\n",
       "    <tr>\n",
       "      <th>0</th>\n",
       "      <td>ExtraTreesClassifier(bootstrap=False, class_we...</td>\n",
       "      <td>periods clusters=41</td>\n",
       "      <td>subs0.4CV</td>\n",
       "      <td>0.8116</td>\n",
       "    </tr>\n",
       "    <tr>\n",
       "      <th>0</th>\n",
       "      <td>ExtraTreesClassifier(bootstrap=False, class_we...</td>\n",
       "      <td>periods clusters=41</td>\n",
       "      <td>subs0.1CV</td>\n",
       "      <td>0.7816</td>\n",
       "    </tr>\n",
       "  </tbody>\n",
       "</table>\n",
       "</div>"
      ],
      "text/plain": [
       "                                                 clf          description  \\\n",
       "0  ExtraTreesClassifier(bootstrap=False, class_we...  periods clusters=41   \n",
       "0  ExtraTreesClassifier(bootstrap=False, class_we...  periods clusters=41   \n",
       "0  ExtraTreesClassifier(bootstrap=False, class_we...  periods clusters=41   \n",
       "0  ExtraTreesClassifier(bootstrap=False, class_we...  periods clusters=41   \n",
       "0  ExtraTreesClassifier(bootstrap=False, class_we...  periods clusters=41   \n",
       "\n",
       "          cv  score_mean  \n",
       "0  subs1.0CV      0.8294  \n",
       "0     rectCV      0.7314  \n",
       "0  subs0.7CV      0.8223  \n",
       "0  subs0.4CV      0.8116  \n",
       "0  subs0.1CV      0.7816  "
      ]
     },
     "execution_count": 102,
     "metadata": {},
     "output_type": "execute_result"
    }
   ],
   "source": [
    "n_cl=clusters_scores_periods.iloc[np.argmax(clusters_scores_periods['score_mean'].values)]['n_neighbors']\n",
    "tcp=utils.TimedCluster(cluster.MiniBatchKMeans(n_clusters=n_cl), feature_space='periods')\n",
    "train_clusters_periods=tcp.fit_predict(train_scaled)\n",
    "for _cv in [origCV, rectCV, ss07CV, ss04CV, ss01CV]:\n",
    "    res=utils.test_cv(train_clusters_periods, y_train, clf, _cv, f1_scorew, 'periods clusters={}'.format(n_cl))\n",
    "    all_scores=all_scores.append(res)\n",
    "all_scores.iloc[-5:]"
   ]
  },
  {
   "cell_type": "markdown",
   "metadata": {},
   "source": [
    "## Embedding observations with nearest neighbors features"
   ]
  },
  {
   "cell_type": "code",
   "execution_count": 4,
   "metadata": {
    "collapsed": true
   },
   "outputs": [],
   "source": [
    "# We need to add coordinates to data for use NearestPointEmbedding transformer\n",
    "trainx1x2=train.copy()\n",
    "trainx1x2[coord_train.columns]=coord_train"
   ]
  },
  {
   "cell_type": "markdown",
   "metadata": {},
   "source": [
    "### try different number of neighbors: 2,5,10"
   ]
  },
  {
   "cell_type": "code",
   "execution_count": null,
   "metadata": {
    "collapsed": true
   },
   "outputs": [],
   "source": [
    "n_neighbors=2\n",
    "npe=utils.NearestPointsEmbedding(n_neighbors=n_neighbors)\n",
    "for _cv in [origCV1, rectCV1, ss07CV1, ss04CV1, ss01CV1]:\n",
    "    res=utils.test_cv_transform(trainx1x2, y_train, clf, _cv, f1_scorew, 'embedding neighbors={}'.format(n_neighbors), npe)\n",
    "    all_scores=all_scores.append(res)\n",
    "all_scores.iloc[-5:]"
   ]
  },
  {
   "cell_type": "code",
   "execution_count": null,
   "metadata": {},
   "outputs": [],
   "source": [
    "n_neighbors=5\n",
    "npe=utils.NearestPointsEmbedding(n_neighbors=n_neighbors)\n",
    "for _cv in [origCV1, rectCV1, ss07CV1, ss04CV1, ss01CV1]:\n",
    "    res=utils.test_cv_transform(trainx1x2, y_train, clf, _cv, f1_scorew, 'embedding neighbors={}'.format(n_neighbors), npe)\n",
    "    all_scores=all_scores.append(res)\n",
    "all_scores.iloc[-5:]"
   ]
  },
  {
   "cell_type": "code",
   "execution_count": null,
   "metadata": {
    "collapsed": true
   },
   "outputs": [],
   "source": [
    "n_neighbors=10\n",
    "npe=utils.NearestPointsEmbedding(n_neighbors=n_neighbors)\n",
    "for _cv in [origCV1, rectCV1, ss07CV1, ss04CV1, ss01CV1]:\n",
    "    res=utils.test_cv_transform(trainx1x2, y_train, clf, _cv, f1_scorew, 'embedding neighbors={}'.format(n_neighbors), npe)\n",
    "    all_scores=all_scores.append(res)\n",
    "all_scores.iloc[-5:]"
   ]
  },
  {
   "cell_type": "markdown",
   "metadata": {},
   "source": [
    "## Simple, but strong: coordinate-based nearest neighbors classifier"
   ]
  },
  {
   "cell_type": "code",
   "execution_count": 18,
   "metadata": {},
   "outputs": [
    {
     "name": "stdout",
     "output_type": "stream",
     "text": [
      "time: 2.09s\n",
      "time: 2.42s\n",
      "time: 1.52s\n",
      "time: 1.23s\n",
      "time: 0.95s\n"
     ]
    },
    {
     "data": {
      "text/html": [
       "<div>\n",
       "<style>\n",
       "    .dataframe thead tr:only-child th {\n",
       "        text-align: right;\n",
       "    }\n",
       "\n",
       "    .dataframe thead th {\n",
       "        text-align: left;\n",
       "    }\n",
       "\n",
       "    .dataframe tbody tr th {\n",
       "        vertical-align: top;\n",
       "    }\n",
       "</style>\n",
       "<table border=\"1\" class=\"dataframe\">\n",
       "  <thead>\n",
       "    <tr style=\"text-align: right;\">\n",
       "      <th></th>\n",
       "      <th>clf</th>\n",
       "      <th>description</th>\n",
       "      <th>cv</th>\n",
       "      <th>score_mean</th>\n",
       "    </tr>\n",
       "  </thead>\n",
       "  <tbody>\n",
       "    <tr>\n",
       "      <th>0</th>\n",
       "      <td>KNeighborsClassifier(algorithm='auto', leaf_si...</td>\n",
       "      <td>knn on coordinates neighbors=1</td>\n",
       "      <td>subs1.0CV</td>\n",
       "      <td>0.9850</td>\n",
       "    </tr>\n",
       "    <tr>\n",
       "      <th>0</th>\n",
       "      <td>KNeighborsClassifier(algorithm='auto', leaf_si...</td>\n",
       "      <td>knn on coordinates neighbors=1</td>\n",
       "      <td>rectCV</td>\n",
       "      <td>0.5804</td>\n",
       "    </tr>\n",
       "    <tr>\n",
       "      <th>0</th>\n",
       "      <td>KNeighborsClassifier(algorithm='auto', leaf_si...</td>\n",
       "      <td>knn on coordinates neighbors=1</td>\n",
       "      <td>subs0.7CV</td>\n",
       "      <td>0.9787</td>\n",
       "    </tr>\n",
       "    <tr>\n",
       "      <th>0</th>\n",
       "      <td>KNeighborsClassifier(algorithm='auto', leaf_si...</td>\n",
       "      <td>knn on coordinates neighbors=1</td>\n",
       "      <td>subs0.4CV</td>\n",
       "      <td>0.9663</td>\n",
       "    </tr>\n",
       "    <tr>\n",
       "      <th>0</th>\n",
       "      <td>KNeighborsClassifier(algorithm='auto', leaf_si...</td>\n",
       "      <td>knn on coordinates neighbors=1</td>\n",
       "      <td>subs0.1CV</td>\n",
       "      <td>0.9071</td>\n",
       "    </tr>\n",
       "  </tbody>\n",
       "</table>\n",
       "</div>"
      ],
      "text/plain": [
       "                                                 clf  \\\n",
       "0  KNeighborsClassifier(algorithm='auto', leaf_si...   \n",
       "0  KNeighborsClassifier(algorithm='auto', leaf_si...   \n",
       "0  KNeighborsClassifier(algorithm='auto', leaf_si...   \n",
       "0  KNeighborsClassifier(algorithm='auto', leaf_si...   \n",
       "0  KNeighborsClassifier(algorithm='auto', leaf_si...   \n",
       "\n",
       "                      description         cv  score_mean  \n",
       "0  knn on coordinates neighbors=1  subs1.0CV      0.9850  \n",
       "0  knn on coordinates neighbors=1     rectCV      0.5804  \n",
       "0  knn on coordinates neighbors=1  subs0.7CV      0.9787  \n",
       "0  knn on coordinates neighbors=1  subs0.4CV      0.9663  \n",
       "0  knn on coordinates neighbors=1  subs0.1CV      0.9071  "
      ]
     },
     "execution_count": 18,
     "metadata": {},
     "output_type": "execute_result"
    }
   ],
   "source": [
    "n_neighbors=1\n",
    "clf=neighbors.KNeighborsClassifier(n_neighbors=n_neighbors, weights='uniform', p=1)\n",
    "for _cv in [origCV, rectCV, ss07CV, ss04CV, ss01CV]:\n",
    "    res=utils.test_cv(coord_train, y_train, clf, _cv, f1_scorew, 'knn on coordinates neighbors={}'.format(n_neighbors))\n",
    "    all_scores=all_scores.append(res)\n",
    "all_scores.iloc[-5:]"
   ]
  },
  {
   "cell_type": "code",
   "execution_count": 21,
   "metadata": {},
   "outputs": [
    {
     "name": "stdout",
     "output_type": "stream",
     "text": [
      "time: 2.27s\n",
      "time: 2.40s\n",
      "time: 1.47s\n",
      "time: 1.27s\n",
      "time: 1.02s\n"
     ]
    },
    {
     "data": {
      "text/html": [
       "<div>\n",
       "<style>\n",
       "    .dataframe thead tr:only-child th {\n",
       "        text-align: right;\n",
       "    }\n",
       "\n",
       "    .dataframe thead th {\n",
       "        text-align: left;\n",
       "    }\n",
       "\n",
       "    .dataframe tbody tr th {\n",
       "        vertical-align: top;\n",
       "    }\n",
       "</style>\n",
       "<table border=\"1\" class=\"dataframe\">\n",
       "  <thead>\n",
       "    <tr style=\"text-align: right;\">\n",
       "      <th></th>\n",
       "      <th>clf</th>\n",
       "      <th>description</th>\n",
       "      <th>cv</th>\n",
       "      <th>score_mean</th>\n",
       "    </tr>\n",
       "  </thead>\n",
       "  <tbody>\n",
       "    <tr>\n",
       "      <th>0</th>\n",
       "      <td>KNeighborsClassifier(algorithm='auto', leaf_si...</td>\n",
       "      <td>knn on coordinates neighbors=2</td>\n",
       "      <td>subs1.0CV</td>\n",
       "      <td>0.9789</td>\n",
       "    </tr>\n",
       "    <tr>\n",
       "      <th>0</th>\n",
       "      <td>KNeighborsClassifier(algorithm='auto', leaf_si...</td>\n",
       "      <td>knn on coordinates neighbors=2</td>\n",
       "      <td>rectCV</td>\n",
       "      <td>0.5951</td>\n",
       "    </tr>\n",
       "    <tr>\n",
       "      <th>0</th>\n",
       "      <td>KNeighborsClassifier(algorithm='auto', leaf_si...</td>\n",
       "      <td>knn on coordinates neighbors=2</td>\n",
       "      <td>subs0.7CV</td>\n",
       "      <td>0.9716</td>\n",
       "    </tr>\n",
       "    <tr>\n",
       "      <th>0</th>\n",
       "      <td>KNeighborsClassifier(algorithm='auto', leaf_si...</td>\n",
       "      <td>knn on coordinates neighbors=2</td>\n",
       "      <td>subs0.4CV</td>\n",
       "      <td>0.9553</td>\n",
       "    </tr>\n",
       "    <tr>\n",
       "      <th>0</th>\n",
       "      <td>KNeighborsClassifier(algorithm='auto', leaf_si...</td>\n",
       "      <td>knn on coordinates neighbors=2</td>\n",
       "      <td>subs0.1CV</td>\n",
       "      <td>0.8875</td>\n",
       "    </tr>\n",
       "  </tbody>\n",
       "</table>\n",
       "</div>"
      ],
      "text/plain": [
       "                                                 clf  \\\n",
       "0  KNeighborsClassifier(algorithm='auto', leaf_si...   \n",
       "0  KNeighborsClassifier(algorithm='auto', leaf_si...   \n",
       "0  KNeighborsClassifier(algorithm='auto', leaf_si...   \n",
       "0  KNeighborsClassifier(algorithm='auto', leaf_si...   \n",
       "0  KNeighborsClassifier(algorithm='auto', leaf_si...   \n",
       "\n",
       "                      description         cv  score_mean  \n",
       "0  knn on coordinates neighbors=2  subs1.0CV      0.9789  \n",
       "0  knn on coordinates neighbors=2     rectCV      0.5951  \n",
       "0  knn on coordinates neighbors=2  subs0.7CV      0.9716  \n",
       "0  knn on coordinates neighbors=2  subs0.4CV      0.9553  \n",
       "0  knn on coordinates neighbors=2  subs0.1CV      0.8875  "
      ]
     },
     "execution_count": 21,
     "metadata": {},
     "output_type": "execute_result"
    }
   ],
   "source": [
    "n_neighbors=2\n",
    "clf=neighbors.KNeighborsClassifier(n_neighbors=n_neighbors)\n",
    "for _cv in [origCV, rectCV, ss07CV, ss04CV, ss01CV]:\n",
    "    res=utils.test_cv(coord_train, y_train, clf, _cv, f1_scorew, 'knn on coordinates neighbors={}'.format(n_neighbors))\n",
    "    all_scores=all_scores.append(res)\n",
    "all_scores.iloc[-5:]"
   ]
  },
  {
   "cell_type": "code",
   "execution_count": null,
   "metadata": {
    "collapsed": true
   },
   "outputs": [],
   "source": [
    "n_neighbors=10\n",
    "clf=neighbors.KNeighborsClassifier(n_neighbors=n_neighbors)\n",
    "for _cv in [origCV, rectCV, ss07CV, ss04CV, ss01CV]:\n",
    "    res=utils.test_cv(coord_train, y_train, clf, _cv, f1_scorew, 'knn on coordinates neighbors={}'.format(n_neighbors))\n",
    "    all_scores=all_scores.append(res)\n",
    "all_scores.iloc[-5:]"
   ]
  }
 ],
 "metadata": {
  "kernelspec": {
   "display_name": "Python 3",
   "language": "python",
   "name": "python3"
  },
  "language_info": {
   "codemirror_mode": {
    "name": "ipython",
    "version": 3
   },
   "file_extension": ".py",
   "mimetype": "text/x-python",
   "name": "python",
   "nbconvert_exporter": "python",
   "pygments_lexer": "ipython3",
   "version": "3.6.0"
  }
 },
 "nbformat": 4,
 "nbformat_minor": 2
}
